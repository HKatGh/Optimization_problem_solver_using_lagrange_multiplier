{
 "cells": [
  {
   "cell_type": "code",
   "execution_count": 2,
   "id": "56875da6",
   "metadata": {},
   "outputs": [],
   "source": [
    "import sympy"
   ]
  },
  {
   "cell_type": "code",
   "execution_count": 3,
   "id": "90cfc419",
   "metadata": {},
   "outputs": [
    {
     "data": {
      "text/plain": [
       "[(2, -1), (-2, 1), (-2, -1), (2, 1)]"
      ]
     },
     "execution_count": 3,
     "metadata": {},
     "output_type": "execute_result"
    }
   ],
   "source": [
    "k,x,y=sympy.symbols('k x y')\n",
    "f='x*y'\n",
    "g='(x^2)/8+(y^2)/2-1'\n",
    "fxyz=sympy.sympify(f)\n",
    "gxyz=sympy.sympify(g)\n",
    "lhs=[sympy.diff(fxyz,x),sympy.diff(f,y)]\n",
    "rhs=[sympy.diff(g,x),sympy.diff(g,y)]\n",
    "rhs=[k*i for i in rhs]\n",
    "eq1=sympy.Eq(lhs[0],rhs[0])\n",
    "eq2=sympy.Eq(lhs[1],rhs[1])\n",
    "eq1_x=sympy.solve(eq1,x)\n",
    "eq2_sub=eq2.subs({x:eq1_x[0]})\n",
    "set_k=sympy.solveset(eq2_sub,k)\n",
    "sol=[]\n",
    "set_y=set()\n",
    "for k_val in list(set_k):\n",
    "    eq1_k=eq1.subs(k,k_val)\n",
    "    eq_g=sympy.Eq(gxyz,0)\n",
    "    eq1_x=sympy.solve(eq1_k,x)\n",
    "    f_eq=eq_g.subs(x,eq1_x[0])\n",
    "    solve_y=sympy.solveset(f_eq,y)\n",
    "    for y_val in list(solve_y):\n",
    "        x_val_eq=eq1_k.subs(y,y_val)\n",
    "        x_val=sympy.solve(x_val_eq,x)\n",
    "        sol.append((x_val[0],y_val))\n",
    "sol"
   ]
  },
  {
   "cell_type": "code",
   "execution_count": 5,
   "id": "a37a7481",
   "metadata": {},
   "outputs": [],
   "source": [
    "l_f=[]\n",
    "for item in sol:\n",
    "    (a,b)=item\n",
    "    l_f.append(fxyz.subs({x:a,y:b}))"
   ]
  },
  {
   "cell_type": "code",
   "execution_count": 6,
   "id": "0bc18d91",
   "metadata": {},
   "outputs": [
    {
     "data": {
      "text/plain": [
       "[-2, -2, 2, 2]"
      ]
     },
     "execution_count": 6,
     "metadata": {},
     "output_type": "execute_result"
    }
   ],
   "source": [
    "l_f"
   ]
  },
  {
   "cell_type": "code",
   "execution_count": 7,
   "id": "2c21aad3",
   "metadata": {},
   "outputs": [],
   "source": [
    "min_i=0\n",
    "for i,it in enumerate(l_f):\n",
    "    if l_f[i]<l_f[min_i]:\n",
    "        min_i=i\n",
    "max_i=0\n",
    "for i,it in enumerate(l_f):\n",
    "    if l_f[i]>l_f[max_i]:\n",
    "        max_i=i"
   ]
  },
  {
   "cell_type": "code",
   "execution_count": 8,
   "id": "a7d758dc",
   "metadata": {},
   "outputs": [
    {
     "data": {
      "text/plain": [
       "(2, -1)"
      ]
     },
     "execution_count": 8,
     "metadata": {},
     "output_type": "execute_result"
    }
   ],
   "source": [
    "sol[min_i]"
   ]
  },
  {
   "cell_type": "code",
   "execution_count": 9,
   "id": "54d84b9b",
   "metadata": {},
   "outputs": [
    {
     "data": {
      "text/plain": [
       "(-2, -1)"
      ]
     },
     "execution_count": 9,
     "metadata": {},
     "output_type": "execute_result"
    }
   ],
   "source": [
    "sol[max_i]"
   ]
  },
  {
   "cell_type": "code",
   "execution_count": null,
   "id": "5e1cc48b",
   "metadata": {},
   "outputs": [],
   "source": []
  }
 ],
 "metadata": {
  "kernelspec": {
   "display_name": "Python 3",
   "language": "python",
   "name": "python3"
  },
  "language_info": {
   "codemirror_mode": {
    "name": "ipython",
    "version": 3
   },
   "file_extension": ".py",
   "mimetype": "text/x-python",
   "name": "python",
   "nbconvert_exporter": "python",
   "pygments_lexer": "ipython3",
   "version": "3.10.0"
  }
 },
 "nbformat": 4,
 "nbformat_minor": 5
}
