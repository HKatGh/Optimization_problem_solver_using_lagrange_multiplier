{
 "cells": [
  {
   "cell_type": "code",
   "execution_count": 1,
   "id": "d46016d5",
   "metadata": {},
   "outputs": [],
   "source": [
    "import numpy as np\n",
    "import matplotlib.pyplot as plt\n",
    "import pandas as pd\n",
    "import seaborn as sns\n",
    "import sympy \n",
    "import scipy "
   ]
  },
  {
   "cell_type": "code",
   "execution_count": 2,
   "id": "f5f448b6",
   "metadata": {},
   "outputs": [],
   "source": [
    "from sympy import symbols\n"
   ]
  },
  {
   "cell_type": "code",
   "execution_count": 3,
   "id": "bb79ab85",
   "metadata": {},
   "outputs": [],
   "source": [
    "x,y,z,k=symbols('x y z k')"
   ]
  },
  {
   "cell_type": "code",
   "execution_count": 4,
   "id": "01fe4570",
   "metadata": {},
   "outputs": [],
   "source": [
    "f=x*y+y*z+z*x"
   ]
  },
  {
   "cell_type": "code",
   "execution_count": 5,
   "id": "c0330f05",
   "metadata": {},
   "outputs": [
    {
     "data": {
      "text/latex": [
       "$\\displaystyle y + z$"
      ],
      "text/plain": [
       "y + z"
      ]
     },
     "execution_count": 5,
     "metadata": {},
     "output_type": "execute_result"
    }
   ],
   "source": [
    "sympy.diff(f,x)"
   ]
  },
  {
   "cell_type": "code",
   "execution_count": 6,
   "id": "675ad887",
   "metadata": {},
   "outputs": [
    {
     "data": {
      "text/latex": [
       "$\\displaystyle \\left\\{\\left( 0, \\  0\\right)\\right\\}$"
      ],
      "text/plain": [
       "{(0, 0)}"
      ]
     },
     "execution_count": 6,
     "metadata": {},
     "output_type": "execute_result"
    }
   ],
   "source": [
    "sympy.linsolve([y-0.25*k*x,x-k*y],(x,y))"
   ]
  },
  {
   "cell_type": "code",
   "execution_count": 7,
   "id": "b46cb4c1",
   "metadata": {},
   "outputs": [],
   "source": [
    "f=sympy.sympify('x*y')"
   ]
  },
  {
   "cell_type": "code",
   "execution_count": 8,
   "id": "fc781940",
   "metadata": {},
   "outputs": [
    {
     "data": {
      "text/latex": [
       "$\\displaystyle x y$"
      ],
      "text/plain": [
       "x*y"
      ]
     },
     "execution_count": 8,
     "metadata": {},
     "output_type": "execute_result"
    }
   ],
   "source": [
    "f"
   ]
  },
  {
   "cell_type": "code",
   "execution_count": 9,
   "id": "611db143",
   "metadata": {},
   "outputs": [
    {
     "data": {
      "text/latex": [
       "$\\displaystyle \\frac{x^{2}}{8} + \\frac{y^{2}}{2} - 1$"
      ],
      "text/plain": [
       "x**2/8 + y**2/2 - 1"
      ]
     },
     "execution_count": 9,
     "metadata": {},
     "output_type": "execute_result"
    }
   ],
   "source": [
    "g=sympy.sympify('(x^2)/8+(y^2)/2-1')\n",
    "g"
   ]
  },
  {
   "cell_type": "code",
   "execution_count": 10,
   "id": "63d7b716",
   "metadata": {},
   "outputs": [],
   "source": [
    "k,x,y=sympy.symbols('k x y')\n",
    "lhs=[sympy.diff(f,x),sympy.diff(f,y)]\n",
    "        \n",
    "rhs=[sympy.diff(g,x),sympy.diff(g,y)]"
   ]
  },
  {
   "cell_type": "code",
   "execution_count": 11,
   "id": "a1740e64",
   "metadata": {},
   "outputs": [
    {
     "data": {
      "text/plain": [
       "[y, x]"
      ]
     },
     "execution_count": 11,
     "metadata": {},
     "output_type": "execute_result"
    }
   ],
   "source": [
    "lhs"
   ]
  },
  {
   "cell_type": "code",
   "execution_count": 12,
   "id": "6c2d6034",
   "metadata": {},
   "outputs": [
    {
     "data": {
      "text/plain": [
       "[x/4, y]"
      ]
     },
     "execution_count": 12,
     "metadata": {},
     "output_type": "execute_result"
    }
   ],
   "source": [
    "rhs"
   ]
  },
  {
   "cell_type": "code",
   "execution_count": 13,
   "id": "889e53ae",
   "metadata": {},
   "outputs": [],
   "source": [
    "rhs=[k*x for x in rhs]"
   ]
  },
  {
   "cell_type": "code",
   "execution_count": 14,
   "id": "aaef79f4",
   "metadata": {},
   "outputs": [
    {
     "data": {
      "text/plain": [
       "[k*x/4, k*y]"
      ]
     },
     "execution_count": 14,
     "metadata": {},
     "output_type": "execute_result"
    }
   ],
   "source": [
    "rhs"
   ]
  },
  {
   "cell_type": "code",
   "execution_count": 15,
   "id": "92887b5d",
   "metadata": {},
   "outputs": [
    {
     "data": {
      "text/latex": [
       "$\\displaystyle y = \\frac{k x}{4}$"
      ],
      "text/plain": [
       "Eq(y, k*x/4)"
      ]
     },
     "execution_count": 15,
     "metadata": {},
     "output_type": "execute_result"
    }
   ],
   "source": [
    "eq1=sympy.Eq(lhs[0],rhs[0])\n",
    "eq1"
   ]
  },
  {
   "cell_type": "code",
   "execution_count": 16,
   "id": "ee94da9e",
   "metadata": {},
   "outputs": [
    {
     "data": {
      "text/plain": [
       "[4*y/k]"
      ]
     },
     "execution_count": 16,
     "metadata": {},
     "output_type": "execute_result"
    }
   ],
   "source": [
    "eq1_x=sympy.solve(eq1,x)\n",
    "eq1_x"
   ]
  },
  {
   "cell_type": "code",
   "execution_count": 17,
   "id": "1c5f38b5",
   "metadata": {},
   "outputs": [],
   "source": [
    "eq2=sympy.Eq(lhs[1],rhs[1])"
   ]
  },
  {
   "cell_type": "code",
   "execution_count": 18,
   "id": "0252957f",
   "metadata": {},
   "outputs": [
    {
     "data": {
      "text/latex": [
       "$\\displaystyle x = k y$"
      ],
      "text/plain": [
       "Eq(x, k*y)"
      ]
     },
     "execution_count": 18,
     "metadata": {},
     "output_type": "execute_result"
    }
   ],
   "source": [
    "eq2"
   ]
  },
  {
   "cell_type": "code",
   "execution_count": 19,
   "id": "aa228ac9",
   "metadata": {},
   "outputs": [],
   "source": [
    "eq2_sub=eq2.subs({x:eq1_x[0]})"
   ]
  },
  {
   "cell_type": "code",
   "execution_count": 20,
   "id": "72916496",
   "metadata": {},
   "outputs": [
    {
     "data": {
      "text/latex": [
       "$\\displaystyle y = - \\frac{x}{2}$"
      ],
      "text/plain": [
       "Eq(y, -x/2)"
      ]
     },
     "execution_count": 20,
     "metadata": {},
     "output_type": "execute_result"
    }
   ],
   "source": [
    "set_k=sympy.solveset(eq2_sub,k)\n",
    "set_k\n",
    "eq1_k=eq1.subs(k,list(set_k)[0])\n",
    "eq1_k\n"
   ]
  },
  {
   "cell_type": "code",
   "execution_count": 21,
   "id": "3f2801b6",
   "metadata": {},
   "outputs": [
    {
     "data": {
      "text/latex": [
       "$\\displaystyle \\frac{x^{2}}{8} + \\frac{y^{2}}{2} - 1 = 0$"
      ],
      "text/plain": [
       "Eq(x**2/8 + y**2/2 - 1, 0)"
      ]
     },
     "execution_count": 21,
     "metadata": {},
     "output_type": "execute_result"
    }
   ],
   "source": [
    "eq_g=sympy.Eq(g,0)\n",
    "eq_g"
   ]
  },
  {
   "cell_type": "code",
   "execution_count": 22,
   "id": "3c305855",
   "metadata": {},
   "outputs": [
    {
     "data": {
      "text/plain": [
       "[-2*y]"
      ]
     },
     "execution_count": 22,
     "metadata": {},
     "output_type": "execute_result"
    }
   ],
   "source": [
    "eq1_x=sympy.solve(eq1_k,x)\n",
    "eq1_x"
   ]
  },
  {
   "cell_type": "code",
   "execution_count": 23,
   "id": "df2eb64c",
   "metadata": {},
   "outputs": [
    {
     "data": {
      "text/latex": [
       "$\\displaystyle \\left\\{-1, 1\\right\\}$"
      ],
      "text/plain": [
       "{-1, 1}"
      ]
     },
     "execution_count": 23,
     "metadata": {},
     "output_type": "execute_result"
    }
   ],
   "source": [
    "f_eq=eq_g.subs(x,eq1_x[0])\n",
    "solve_y=sympy.solveset(f_eq,y)\n",
    "solve_y"
   ]
  },
  {
   "cell_type": "code",
   "execution_count": 36,
   "id": "71900515",
   "metadata": {},
   "outputs": [
    {
     "data": {
      "text/plain": [
       "[(2, -1), (-2, 1), (-2, -1), (2, 1)]"
      ]
     },
     "execution_count": 36,
     "metadata": {},
     "output_type": "execute_result"
    }
   ],
   "source": [
    "sol=[]\n",
    "set_y=set()\n",
    "for k_val in list(set_k):\n",
    "    eq1_k=eq1.subs(k,k_val)\n",
    "    eq_g=sympy.Eq(g,0)\n",
    "    eq1_x=sympy.solve(eq1_k,x)\n",
    "    f_eq=eq_g.subs(x,eq1_x[0])\n",
    "    solve_y=sympy.solveset(f_eq,y)\n",
    "    for y_val in list(solve_y):\n",
    "        x_val_eq=eq1_k.subs(y,y_val)\n",
    "        x_val=sympy.solve(x_val_eq,x)\n",
    "        sol.append((x_val[0],y_val))\n",
    "sol\n",
    "\n",
    "    \n",
    "    \n",
    "    \n",
    "    "
   ]
  },
  {
   "cell_type": "code",
   "execution_count": 25,
   "id": "df2c5e27",
   "metadata": {},
   "outputs": [
    {
     "data": {
      "text/latex": [
       "$\\displaystyle y = \\frac{x}{2}$"
      ],
      "text/plain": [
       "Eq(y, x/2)"
      ]
     },
     "execution_count": 25,
     "metadata": {},
     "output_type": "execute_result"
    }
   ],
   "source": [
    "eq1_k"
   ]
  },
  {
   "cell_type": "code",
   "execution_count": 26,
   "id": "824cb740",
   "metadata": {},
   "outputs": [
    {
     "data": {
      "text/plain": [
       "set()"
      ]
     },
     "execution_count": 26,
     "metadata": {},
     "output_type": "execute_result"
    }
   ],
   "source": [
    "set_y"
   ]
  },
  {
   "cell_type": "code",
   "execution_count": null,
   "id": "37569b98",
   "metadata": {},
   "outputs": [
    {
     "data": {
      "text/plain": [
       "[-2.00000000000000, -2.00000000000000, 2.00000000000000, 2.00000000000000]"
      ]
     },
     "execution_count": 33,
     "metadata": {},
     "output_type": "execute_result"
    }
   ],
   "source": [
    "l_f=[]\n",
    "for item in sol:\n",
    "    (a,b)=item\n",
    "    l_f.append(f.subs({x:a,y:b}))\n"
   ]
  },
  {
   "cell_type": "code",
   "execution_count": 35,
   "id": "03ef0316",
   "metadata": {},
   "outputs": [],
   "source": [
    "min_i=0\n",
    "for i,it in enumerate(l_f):\n",
    "    if l_f[i]<l_f[min_i]:\n",
    "        min_i=i\n",
    "max_i=0\n",
    "for i,it in enumerate(l_f):\n",
    "    if l_f[i]>l_f[max_i]:\n",
    "        max_i=i"
   ]
  },
  {
   "cell_type": "code",
   "execution_count": null,
   "id": "0a11147e",
   "metadata": {},
   "outputs": [],
   "source": []
  }
 ],
 "metadata": {
  "kernelspec": {
   "display_name": "Python 3",
   "language": "python",
   "name": "python3"
  },
  "language_info": {
   "codemirror_mode": {
    "name": "ipython",
    "version": 3
   },
   "file_extension": ".py",
   "mimetype": "text/x-python",
   "name": "python",
   "nbconvert_exporter": "python",
   "pygments_lexer": "ipython3",
   "version": "3.10.0"
  }
 },
 "nbformat": 4,
 "nbformat_minor": 5
}
